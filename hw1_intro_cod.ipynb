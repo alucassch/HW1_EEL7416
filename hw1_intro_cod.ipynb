{
 "cells": [
  {
   "cell_type": "markdown",
   "metadata": {
    "ExecuteTime": {
     "end_time": "2019-09-16T00:34:40.263766Z",
     "start_time": "2019-09-16T00:34:39.386194Z"
    }
   },
   "source": [
    "**EEL7416 Introdução a Codificação**\n",
    "\n",
    "**Códigos Corretores de Erros**\n",
    "\n",
    "**ALUNO: ANDRÉ LUCAS SCHLICHTING 15150162**\n",
    "\n",
    "**Introdução**\n",
    "\n",
    "Este trabalho tem como objetivo demonstrar através de simulação computacional o comportanento da probabilidade de erro de palavra-código para diferentes codificações em um sistema de transmissão binário simétrico.\n",
    "\n",
    "As simulações foram feitas com o uso das bibliotecas matemáticas do python seguindo as instruções dadas.\n",
    "\n",
    "\n",
    "**Estrutura**\n",
    "\n",
    "Os blocos de código, quando necessárias quaisquer explicações em relação ao trabalho ou código, estão comentados com blocos de texto. Outros blocos de código possuem comentários dentro do próprio bloco."
   ]
  },
  {
   "cell_type": "code",
   "execution_count": 1,
   "metadata": {
    "ExecuteTime": {
     "end_time": "2019-09-16T21:30:56.094345Z",
     "start_time": "2019-09-16T21:30:55.634863Z"
    }
   },
   "outputs": [],
   "source": [
    "from collections import defaultdict #Biblioteca de dicionários para manipulação de dados\n",
    "import matplotlib.pyplot as plt #Biblioteca de plot\n",
    "from functools import reduce #Biblioteca de operações múltiplas\n",
    "import operator as op #Biblioteca de operações\n",
    "import numpy as np #Biblioteca para uso de matrizes e vetores\n",
    "\n",
    "import math #Biblioteca de funções matemáticas"
   ]
  },
  {
   "cell_type": "markdown",
   "metadata": {},
   "source": [
    "Neste trabalho são analisados 3 códigos de bloco com taxas $R=k/7$, em que $k=$1,4 e 7. São os blocos de repetição, Hamming e bloco não codificado, respectivamente.\n",
    "\n",
    "A probabilidade de erro teórica para o **código de repetição** é dada pela expressão:\n",
    "\n",
    "$$\n",
    "P_{erro} = 1-[(1-p)^7 +7p(1-p)^6+\\binom{7}{2}p^2(1-p)^5+\\binom{7}{3}p^3(1-p)^4]\n",
    "$$\n",
    "\n",
    "Para o **código hamming** a probabilidade de erro é dada por:\n",
    "\n",
    "$$\n",
    "P_{erro} = 1-[(1-p)^7 +7p(1-p)^6]\n",
    "$$\n",
    "\n",
    "Sendo a probabilidade de codificar corretamente um bit enviado em um espaço dada pela expressão\n",
    "\n",
    "$$\n",
    "Pr = (1-p)^n +\\binom{n}{1}p(1-p)^{n-1}+...+\\binom{n}{\\frac{n-1}{2}}p^{\\frac{n-1}{2}}(1-p)^\\frac{n+1}{2}\n",
    "$$\n",
    "\n",
    "$$\n",
    "Pr = \\sum_{e=0}^{\\frac{n-1}{2}}\\binom{n}{e}p^e(1-p)^{n-e}\n",
    "$$\n",
    "\n",
    "A expressão para a probabilidade de erro do código cujo $k=7$ a exemplo das expressões acima para $k=1$ e $k=4$ e seguindo a expressão geral onde a probabilidade de erro é $P_{erro} = 1-Pr$ será:\n",
    "\n",
    "$$\n",
    "P_{erro} = 1-[(1-p)^7]\n",
    "$$"
   ]
  },
  {
   "cell_type": "code",
   "execution_count": 2,
   "metadata": {
    "ExecuteTime": {
     "end_time": "2019-09-16T21:30:56.142034Z",
     "start_time": "2019-09-16T21:30:56.096588Z"
    }
   },
   "outputs": [],
   "source": [
    "def comb(n, r):\n",
    "    r = min(r, n-r)\n",
    "    numer = reduce(op.mul, range(n, n-r, -1), 1)\n",
    "    denom = reduce(op.mul, range(1, r+1), 1)\n",
    "    return numer / denom\n",
    "\n",
    "#Perro para k=1\n",
    "def repErrorProb(p):\n",
    "    perr = ((1-p)**7) + (7*p*(1-p)**6) + (comb(7, 2)*(p**2)\n",
    "                                          * ((1-p)**5)) + (comb(7, 3)*(p**3)*((1-p)**4))\n",
    "    err = 1 - perr\n",
    "    return err\n",
    "\n",
    "#Perro para k=4\n",
    "def hamErrorProb(p):\n",
    "    perr = ((1-p)**7) + (7*p*((1-p)**6))\n",
    "    err = 1 - perr\n",
    "    return err\n",
    "\n",
    "#Perro para k=7\n",
    "def unoErrorProb(p):\n",
    "    perr = ((1-p)**7)\n",
    "    err = 1 - perr\n",
    "    return err\n",
    "\n",
    "\n",
    "def get_color_k(k):\n",
    "    if k == 1:\n",
    "        return 'r'\n",
    "    elif k == 4:\n",
    "        return 'g'\n",
    "    else:\n",
    "        return 'b'"
   ]
  },
  {
   "cell_type": "markdown",
   "metadata": {},
   "source": [
    "No bloco abaixo temos as funções utilizadas para gerar mensagens aleatórias, codificá-las e adicionar ruído.\n",
    "\n",
    "Uma mensagem aleatória binária pode ser gerada através do arredondamento dos valores gerados entre 0 e 1. Valores entre 0 e 0.5 são arredondados para 0 e valores maiores que 0.5 são arredondados para 1.\n",
    "\n",
    "Para adicionar o ruído pode-se subtrair 0.5 do valor gerado e adicionar o erro de valor p. Dessa forma o arredndamento ficará tendenciado ao intervalo onde o valor estiver quando p for somado. Isso acontece porque  o canal é binário com probabilidade de 1 ser p e 0 ser 1-p."
   ]
  },
  {
   "cell_type": "code",
   "execution_count": 3,
   "metadata": {
    "ExecuteTime": {
     "end_time": "2019-09-16T21:30:56.166571Z",
     "start_time": "2019-09-16T21:30:56.147211Z"
    }
   },
   "outputs": [],
   "source": [
    "#Cria uma mensagem aleatória de l bits\n",
    "def create_message(l):\n",
    "    return np.round(np.random.rand(1, l)).astype(int)[0]\n",
    "\n",
    "#Codifica a mensagem m com a matriz geradora G\n",
    "def encode(m, G):\n",
    "    if len(G.shape) > 1:\n",
    "        return np.dot(G, m) % 2\n",
    "    else:\n",
    "        return G*m\n",
    "\n",
    "#Adicional a mensagem m um erro de probabilide p\n",
    "def noisy(m, p):\n",
    "    e = np.round(np.random.rand(1, 7)-0.5+p)\n",
    "    return np.logical_xor(m, e).astype(int)[0]\n",
    "\n",
    "\n",
    "def make_message(k, p, G):\n",
    "    m = create_message(k)\n",
    "    menc = encode(m, G)\n",
    "    mnoisy = noisy(menc, p)\n",
    "    return menc, mnoisy"
   ]
  },
  {
   "cell_type": "markdown",
   "metadata": {},
   "source": [
    "Neste trabalho, duas formas de decodificar a mensagem recebida para o código hamming foram implementadas. Uma faz o uso da matriz verificadora e outra forma faz o uso da decodificação exaustiva e distância hamming, comparando a palavra recebida com todas as palavras código possíveis.\n",
    "\n",
    "# Código Hamming\n",
    "\n",
    "Uma mensagem aleatória $u$ de 4 bits é criada e codificada com a matriz G abaixo:\n",
    "\n",
    "$$G = \\begin{bmatrix}\n",
    "1 & 1 & 0 & 1\\\\ \n",
    "1 & 0 & 1 & 1\\\\ \n",
    "1 & 0 & 0 & 0 \\\\ \n",
    "0 & 1 & 1 & 1\\\\ \n",
    "0 & 1 & 0 & 0 \\\\ \n",
    "0 & 0 & 1 & 0\\\\ \n",
    "0 & 0 & 0 & 1\n",
    "\\end{bmatrix}\n",
    "$$\n",
    "\n",
    "a mensagem aleatória é codificada segundo a expressão\n",
    "\n",
    "$$v = Gu$$\n",
    "\n",
    "A palavr código recebida é então decodificada usando a matriz\n",
    "\n",
    "$$H =\\begin{bmatrix}\n",
    "1 &0  &1  & 0 &1  &0  &1 \\\\ \n",
    " 0&1  &1  &0  &0  &1  &1 \\\\ \n",
    "0 & 0 &0  &1  &1  &1  &1 \n",
    "\\end{bmatrix}\n",
    "$$\n",
    "\n",
    "da seguinte maneira\n",
    "\n",
    "$$\\hat{v} = Hr$$\n",
    "\n",
    "onde $r$ é a palavra código recebida adicionada de ruído $e$\n",
    "\n",
    "$$r = v+e$$\n",
    "\n",
    "Caso $\\hat{v}$ seja nulo, a palavra código decodificada é a própria mensagem recebida $r$. Caso contrário, altera-se na mensagem recebida o bit correspondente a posição na matriz H em que se encontra $\\hat{v}$.\n",
    "\n",
    "## Decodifição exaustiva\n",
    "\n",
    "Todas as $2^4$  palavras chave podem ser geradas através da matriz $G$. A decodificação através da distância de hamming se faz comparando a mensagem recebida $r$ com todas as palavras chave possíveis e escolhendo a de menor distância.\n"
   ]
  },
  {
   "cell_type": "code",
   "execution_count": 4,
   "metadata": {
    "ExecuteTime": {
     "end_time": "2019-09-16T21:30:56.199024Z",
     "start_time": "2019-09-16T21:30:56.170316Z"
    }
   },
   "outputs": [],
   "source": [
    "def hamming(k, p, L, G, H, Kwords):\n",
    "    def decode_H(m, H):\n",
    "        decoded_message = np.dot(H, m) % 2\n",
    "        if np.sum(decoded_message) == 0:\n",
    "            v_hyp = noisy_message\n",
    "        else:\n",
    "            ei = np.where((np.transpose(H) == tuple(\n",
    "                decoded_message)).all(axis=1))[0][0]\n",
    "            v_hyp = noisy_message\n",
    "            v_hyp[ei] = int(not(v_hyp[ei]))\n",
    "\n",
    "        return v_hyp\n",
    "        # return np.dot(H, m) % 2\n",
    "\n",
    "    def decode_exaustivo(m, Kwords):\n",
    "        min_d = k+1\n",
    "        for kword in Kwords:\n",
    "            d = np.count_nonzero(kword - m)\n",
    "            if d < min_d:\n",
    "                min_d = d\n",
    "                v_hyp = kword\n",
    "\n",
    "        return v_hyp\n",
    "\n",
    "    err_H = 0\n",
    "    err_exaustivo = 0\n",
    "    for i in range(L):\n",
    "        encoded_message, noisy_message = make_message(k, p, G)\n",
    "        v_hyp_H = decode_H(noisy_message, H)\n",
    "        v_hyp_exaustivo = decode_exaustivo(noisy_message, Kwords)\n",
    "\n",
    "        if not np.array_equal(encoded_message, v_hyp_H):\n",
    "            err_H += 1\n",
    "        if not np.array_equal(encoded_message, v_hyp_exaustivo):\n",
    "            err_exaustivo += 1\n",
    "\n",
    "    return (err_H/L, err_exaustivo/L)"
   ]
  },
  {
   "cell_type": "markdown",
   "metadata": {},
   "source": [
    "# Código de repetição\n",
    "\n",
    "Para o código de repetição decide-se que a palavra recebida é $\\hat{v} = (1111111)$ se a maioria dos bits na palavra recebida for 1, caso contrário opta-se por $\\hat{v} = (0000000)$."
   ]
  },
  {
   "cell_type": "code",
   "execution_count": 5,
   "metadata": {
    "ExecuteTime": {
     "end_time": "2019-09-16T21:30:56.223856Z",
     "start_time": "2019-09-16T21:30:56.205829Z"
    }
   },
   "outputs": [],
   "source": [
    "def repetition(k, p, L, G):\n",
    "    err = 0\n",
    "    for i in range(L):\n",
    "        encoded_message, noisy_message = make_message(k, p, G)\n",
    "        n_nonzeros = np.count_nonzero(noisy_message)\n",
    "        n_zeros = len(noisy_message)-n_nonzeros\n",
    "        if n_nonzeros > n_zeros:\n",
    "            v_hyp = np.ones(7).astype(int)\n",
    "        else:\n",
    "            v_hyp = np.zeros(7).astype(int)\n",
    "\n",
    "        if not np.array_equal(encoded_message, v_hyp):\n",
    "            err += 1\n",
    "\n",
    "    Pe = err/L\n",
    "    return Pe"
   ]
  },
  {
   "cell_type": "markdown",
   "metadata": {},
   "source": [
    "# Código k=7/7\n",
    "\n",
    "Neste código a palavra decodificada é a própria palavra recebida."
   ]
  },
  {
   "cell_type": "code",
   "execution_count": 6,
   "metadata": {
    "ExecuteTime": {
     "end_time": "2019-09-16T21:30:56.242945Z",
     "start_time": "2019-09-16T21:30:56.227902Z"
    }
   },
   "outputs": [],
   "source": [
    "def func(k, p, L, G):\n",
    "    err = 0\n",
    "    for i in range(L):\n",
    "        encoded_message, noisy_message = make_message(k, p, G)\n",
    "        v_hyp = noisy_message\n",
    "        if not np.array_equal(encoded_message, v_hyp):\n",
    "            err += 1\n",
    "    Pe = err/L\n",
    "    return Pe"
   ]
  },
  {
   "cell_type": "markdown",
   "metadata": {},
   "source": [
    "# Simulação\n",
    "\n",
    "Na simulação foram executadas 500 vezes o código para os códigos descritos acima e algumas probabilidades de erro chamadas de p_ no código. A matriz geradora G para cada códig está mostrada abaixo.\n",
    "\n",
    "Para a decodificação do código hamming, uma lista de dados contém todas as palavras código possíveis geradas com a matriz geradora G. A matriz H para decodificação também está mostrada no bloco abaixo.\n",
    "\n",
    "No laço principal, para cada valor de p_ são executadas L vezes cada um dos 3 códigos em análise. Em cada código uma mensagem $u$ é gerada, essa mensagem $u$ é codificada através de $v=uG$. Essa mensagem codificada é então adicionada de ruído e torna-se a palavra recebida $r=v+e$. A mensagem recebida é então decodificada utilizando-se das técnicas de cada código respectivamente, como descrito nos itens anteriores. Para o código hamming, duas decodificações são feitas, a exaustiva e utilizando a matriz verificadora $H$. Então compara-se a palavra decodificada com a palara código codificada a priori e decide-se se há um erro ou acerto. A contabilização dos erros sobre o total de execuções nos dá a probabilidade de erro do código."
   ]
  },
  {
   "cell_type": "code",
   "execution_count": 7,
   "metadata": {
    "ExecuteTime": {
     "end_time": "2019-09-16T21:30:57.274813Z",
     "start_time": "2019-09-16T21:30:56.253559Z"
    }
   },
   "outputs": [],
   "source": [
    "L = 500\n",
    "k_ = [1, 4, 7]\n",
    "p_ = [0.05, 0.1, 0.15, 0.2, 0.25, 0.3, 0.4, 0.5, 0.6, 0.7, 0.8, 0.9]\n",
    "\n",
    "G_ = {\n",
    "    1/7: np.array([1, 1, 1, 1, 1, 1, 1]),\n",
    "    4/7: np.array([[1, 1, 0, 1],\n",
    "                   [1, 0, 1, 1],\n",
    "                   [1, 0, 0, 0],\n",
    "                   [0, 1, 1, 1],\n",
    "                   [0, 1, 0, 0],\n",
    "                   [0, 0, 1, 0],\n",
    "                   [0, 0, 0, 1]]),\n",
    "    7/7: np.array([1])\n",
    "}\n",
    "\n",
    "k = 4\n",
    "Kwords_ = []\n",
    "for i in range(2**k):\n",
    "    b = '{0:04b}'.format(i)\n",
    "    x = np.array([int(x) for x in b])\n",
    "    Kwords_.append(np.dot(G_[k/7], x) % 2)\n",
    "\n",
    "\n",
    "H_ = np.array([[1, 0, 1, 0, 1, 0, 1],\n",
    "               [0, 1, 1, 0, 0, 1, 1],\n",
    "               [0, 0, 0, 1, 1, 1, 1]])\n",
    "\n",
    "res = defaultdict(lambda: defaultdict(int))\n",
    "res2 = {}\n",
    "for p in p_:\n",
    "    k = 4\n",
    "    Pe_H, Pe_exaustivo = hamming(k, p, L, G_[k/7], H_, Kwords_)\n",
    "    res[k][p] = Pe_H\n",
    "    res2[p] = Pe_exaustivo\n",
    "    #print(\"Pe k={k} p={p} : {Pe}\".format(**locals()))\n",
    "\n",
    "    k = 1\n",
    "    Pe = repetition(k, p, L, G_[k/7])\n",
    "    res[k][p] = Pe\n",
    "    #print(\"Pe k={k} p={p} : {Pe}\".format(**locals()))\n",
    "\n",
    "    k = 7\n",
    "    Pe = func(k, p, L, G_[k/7])\n",
    "    res[k][p] = Pe\n",
    "    #print(\"Pe k={k} p={p} : {Pe}\".format(**locals()))"
   ]
  },
  {
   "cell_type": "markdown",
   "metadata": {},
   "source": [
    "# Resultados\n",
    "\n",
    "A figura gerada pelo bloco de código abaixo mostra as linhas teóricas e os valores simulados para cada código.\n",
    "Observa-se que para menores valores de k a probabilidade de erro é menor. Isso ocorre devido a quantidade de informação redundante enviada para se enviar apenas 1 bit através do canal simétrico.\n",
    "\n",
    "Para k=1, que é o código de repetição, repete-se várias vezes o bit a ser enviado, dessa forma é difícil que o erro afete a maioria dos bits fazendo com que a mensagem interpretada na recepção se inverta.\n",
    "\n",
    "Para k=4, menos redundância é adicionada, além de uma forma de conseguir verificar e corrigir ao menos 1 bit de mensagem.\n",
    "\n",
    "Para k=7, a própria mensagem é enviada sem nenhum tipo de segurança ao redor para garantir a transmissão e recepção, tornando a quantidade de erros muito maior quando comparada aos outros códigos.\n",
    "\n"
   ]
  },
  {
   "cell_type": "code",
   "execution_count": 8,
   "metadata": {
    "ExecuteTime": {
     "end_time": "2019-09-16T21:30:57.291972Z",
     "start_time": "2019-09-16T21:30:57.279317Z"
    },
    "scrolled": true
   },
   "outputs": [],
   "source": [
    "Pe_hamming = [hamErrorProb(p) for p in p_]\n",
    "Pe_rep = [repErrorProb(p) for p in p_]\n",
    "Pe_uno = [unoErrorProb(p) for p in p_]\n",
    "\n",
    "#plt.figure()\n",
    "#plt.grid()\n",
    "#plt.plot(p_, Pe_rep, get_color_k(1)+'--')\n",
    "#plt.plot(p_, Pe_hamming, get_color_k(4)+'--')\n",
    "#plt.plot(p_, Pe_uno, get_color_k(7)+'--')\n",
    "\n",
    "data_plot = {}\n",
    "for k in k_:\n",
    "    datax = []\n",
    "    datay = []\n",
    "    for p in res[k]:\n",
    "        Pe = res[k][p]\n",
    "        datax.append(p)\n",
    "        datay.append(Pe)\n",
    "    data_plot[k]=((datax,datay))\n",
    "    #plt.plot(datax, datay, get_color_k(k)+'o')\n",
    "\n",
    "datax_exaustivo = []\n",
    "datay_exaustivo = []\n",
    "for p in res2.keys():\n",
    "    datax_exaustivo.append(p)\n",
    "    datay_exaustivo.append(res2[p])\n",
    "    \n"
   ]
  },
  {
   "cell_type": "code",
   "execution_count": 9,
   "metadata": {
    "ExecuteTime": {
     "end_time": "2019-09-16T21:30:57.587927Z",
     "start_time": "2019-09-16T21:30:57.296026Z"
    },
    "scrolled": true
   },
   "outputs": [
    {
     "data": {
      "image/png": "[encoded data removed]",
      "text/plain": [
       "<Figure size 432x288 with 1 Axes>"
      ]
     },
     "metadata": {
      "needs_background": "light"
     },
     "output_type": "display_data"
    }
   ],
   "source": [
    "plt.figure()\n",
    "plt.grid()\n",
    "plt.plot(p_, Pe_rep, get_color_k(1)+'--')\n",
    "plt.plot(data_plot[1][0],data_plot[1][1],get_color_k(1)+'o')\n",
    "plt.title(\"Probabilidade de erro Código de repetição\")\n",
    "plt.xlabel(\"p\")\n",
    "plt.ylabel(\"Pe\")\n",
    "plt.legend(['teórico','simulado'])\n",
    "plt.show()"
   ]
  },
  {
   "cell_type": "code",
   "execution_count": 10,
   "metadata": {
    "ExecuteTime": {
     "end_time": "2019-09-16T21:30:57.853639Z",
     "start_time": "2019-09-16T21:30:57.591101Z"
    }
   },
   "outputs": [
    {
     "data": {
      "image/png": "[encoded data removed]",
      "text/plain": [
       "<Figure size 432x288 with 1 Axes>"
      ]
     },
     "metadata": {
      "needs_background": "light"
     },
     "output_type": "display_data"
    }
   ],
   "source": [
    "plt.figure()\n",
    "plt.grid()\n",
    "plt.plot(p_, Pe_hamming, get_color_k(4)+'--')\n",
    "plt.plot(data_plot[4][0],data_plot[4][1],get_color_k(4)+'o')\n",
    "plt.plot(datax_exaustivo, datay_exaustivo,'mx')\n",
    "plt.title(\"Probabilidade de erro Código Hamming\")\n",
    "plt.xlabel(\"p\")\n",
    "plt.ylabel(\"Pe\")\n",
    "plt.legend(['teórico','simulado H', 'simulado exaustivo'])\n",
    "plt.show()"
   ]
  },
  {
   "cell_type": "code",
   "execution_count": 11,
   "metadata": {
    "ExecuteTime": {
     "end_time": "2019-09-16T21:30:58.357727Z",
     "start_time": "2019-09-16T21:30:57.856624Z"
    },
    "scrolled": true
   },
   "outputs": [
    {
     "data": {
      "image/png": "[encoded data removed]",
      "text/plain": [
       "<Figure size 432x288 with 1 Axes>"
      ]
     },
     "metadata": {
      "needs_background": "light"
     },
     "output_type": "display_data"
    }
   ],
   "source": [
    "plt.figure()\n",
    "plt.grid()\n",
    "plt.plot(p_, Pe_uno, get_color_k(7)+'--')\n",
    "plt.plot(data_plot[7][0],data_plot[7][1],get_color_k(7)+'o')\n",
    "plt.title(\"Probabilidade de erro Código 7/7\")\n",
    "plt.xlabel(\"p\")\n",
    "plt.ylabel(\"Pe\")\n",
    "plt.legend(['teórico','simulado'])\n",
    "plt.show()"
   ]
  },
  {
   "cell_type": "code",
   "execution_count": 12,
   "metadata": {
    "ExecuteTime": {
     "end_time": "2019-09-16T21:30:58.905551Z",
     "start_time": "2019-09-16T21:30:58.370004Z"
    }
   },
   "outputs": [
    {
     "data": {
      "image/png": "[encoded data removed]",
      "text/plain": [
       "<Figure size 432x288 with 1 Axes>"
      ]
     },
     "metadata": {
      "needs_background": "light"
     },
     "output_type": "display_data"
    }
   ],
   "source": [
    "plt.figure()\n",
    "plt.grid()\n",
    "plt.plot(p_, Pe_rep, get_color_k(1)+'--')\n",
    "plt.plot(data_plot[1][0],data_plot[1][1],get_color_k(1)+'o')\n",
    "plt.plot(p_, Pe_hamming, get_color_k(4)+'--')\n",
    "plt.plot(data_plot[4][0],data_plot[4][1],get_color_k(4)+'o')\n",
    "plt.plot(datax_exaustivo, datay_exaustivo,'mx')\n",
    "plt.plot(p_, Pe_uno, get_color_k(7)+'--')\n",
    "plt.plot(data_plot[7][0],data_plot[7][1],get_color_k(7)+'o')\n",
    "\n",
    "plt.title(\"Resultados\")\n",
    "plt.xlabel(\"p\")\n",
    "plt.ylabel(\"Pe\")\n",
    "plt.legend(['k=1 teo', 'k=1 sim', 'k=4 teo', 'k=4 sim ex', 'k=4 sim H', 'k=7 teo', 'k=7 sim'])\n",
    "plt.show()"
   ]
  },
  {
   "cell_type": "markdown",
   "metadata": {},
   "source": [
    "# Conclusões\n",
    "\n",
    "Observando os resultados nos gráficos percebemos que o código com a menor probabilidade de erros é o código que adiciona a maior quantidade de redundâncias. Além disso é o código que possui uma menor taxa de transmissão, pois para cada bit transmitido no canal BSC (que transmite um único bit), são na verdade transmitidos 7 bits. Há uma troca entre confiabilidade, na forma de probabilidade de erros de bit, e taxa de transmissão da informação desejada."
   ]
  }
 ],
 "metadata": {
  "kernelspec": {
   "display_name": "Python 3",
   "language": "python",
   "name": "python3"
  },
  "language_info": {
   "codemirror_mode": {
    "name": "ipython",
    "version": 3
   },
   "file_extension": ".py",
   "mimetype": "text/x-python",
   "name": "python",
   "nbconvert_exporter": "python",
   "pygments_lexer": "ipython3",
   "version": "3.7.3"
  },
  "toc": {
   "base_numbering": 1,
   "nav_menu": {},
   "number_sections": true,
   "sideBar": true,
   "skip_h1_title": false,
   "title_cell": "Table of Contents",
   "title_sidebar": "Contents",
   "toc_cell": false,
   "toc_position": {},
   "toc_section_display": true,
   "toc_window_display": false
  },
  "varInspector": {
   "cols": {
    "lenName": 16,
    "lenType": 16,
    "lenVar": 40
   },
   "kernels_config": {
    "python": {
     "delete_cmd_postfix": "",
     "delete_cmd_prefix": "del ",
     "library": "var_list.py",
     "varRefreshCmd": "print(var_dic_list())"
    },
    "r": {
     "delete_cmd_postfix": ") ",
     "delete_cmd_prefix": "rm(",
     "library": "var_list.r",
     "varRefreshCmd": "cat(var_dic_list()) "
    }
   },
   "types_to_exclude": [
    "module",
    "function",
    "builtin_function_or_method",
    "instance",
    "_Feature"
   ],
   "window_display": false
  }
 },
 "nbformat": 4,
 "nbformat_minor": 2
}
