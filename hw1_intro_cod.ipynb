{
 "cells": [
  {
   "cell_type": "code",
   "execution_count": 1,
   "metadata": {
    "ExecuteTime": {
     "end_time": "2019-09-16T00:11:46.342344Z",
     "start_time": "2019-09-16T00:11:45.994681Z"
    }
   },
   "outputs": [],
   "source": [
    "from collections import defaultdict\n",
    "import matplotlib.pyplot as plt\n",
    "from functools import reduce\n",
    "import operator as op\n",
    "import numpy as np\n",
    "\n",
    "import math"
   ]
  },
  {
   "cell_type": "code",
   "execution_count": 2,
   "metadata": {
    "ExecuteTime": {
     "end_time": "2019-09-16T00:11:46.393563Z",
     "start_time": "2019-09-16T00:11:46.344911Z"
    }
   },
   "outputs": [],
   "source": [
    "def comb(n, r):\n",
    "    r = min(r, n-r)\n",
    "    numer = reduce(op.mul, range(n, n-r, -1), 1)\n",
    "    denom = reduce(op.mul, range(1, r+1), 1)\n",
    "    return numer / denom\n",
    "\n",
    "\n",
    "def repErrorProb(p):\n",
    "    perr = ((1-p)**7) + (7*p*(1-p)**6) + (comb(7, 2)*(p**2)\n",
    "                                          * ((1-p)**5)) + (comb(7, 3)*(p**3)*((1-p)**4))\n",
    "    err = 1 - perr\n",
    "    return err\n",
    "\n",
    "\n",
    "def hamErrorProb(p):\n",
    "    perr = ((1-p)**7) + (7*p*((1-p)**6))\n",
    "    err = 1 - perr\n",
    "    return err\n",
    "\n",
    "\n",
    "def unoErrorProb(p):\n",
    "    perr = ((1-p)**7)\n",
    "    err = 1 - perr\n",
    "    return err\n",
    "\n",
    "\n",
    "def get_color_k(k):\n",
    "    if k == 1:\n",
    "        return 'r'\n",
    "    elif k == 4:\n",
    "        return 'g'\n",
    "    else:\n",
    "        return 'b'"
   ]
  },
  {
   "cell_type": "code",
   "execution_count": 3,
   "metadata": {
    "ExecuteTime": {
     "end_time": "2019-09-16T00:11:46.419044Z",
     "start_time": "2019-09-16T00:11:46.397899Z"
    }
   },
   "outputs": [],
   "source": [
    "def create_message(l):\n",
    "    return np.round(np.random.rand(1, l)).astype(int)[0]\n",
    "\n",
    "\n",
    "def encode(m, G):\n",
    "    if len(G.shape) > 1:\n",
    "        return np.dot(G, m) % 2\n",
    "    else:\n",
    "        return G*m\n",
    "\n",
    "\n",
    "def noisy(message, p):\n",
    "    e = np.round(np.random.rand(1, 7)-0.5+p)\n",
    "    return np.logical_xor(message, e).astype(int)[0]\n",
    "\n",
    "\n",
    "def make_message(k, p, G):\n",
    "    m = create_message(k)\n",
    "    menc = encode(m, G)\n",
    "    mnoisy = noisy(menc, p)\n",
    "    return menc, mnoisy"
   ]
  },
  {
   "cell_type": "markdown",
   "metadata": {},
   "source": [
    "## Código Hamming\n",
    "\n",
    "Uma mensagem aleatória $u$ de 4 bits é criada e codificada com a matriz G abaixo:\n",
    "\n",
    "$$G = \\begin{bmatrix}\n",
    "1 & 1 & 0 & 1\\\\ \n",
    "1 & 0 & 1 & 1\\\\ \n",
    "1 & 0 & 0 & 0 \\\\ \n",
    "0 & 1 & 1 & 1\\\\ \n",
    "0 & 1 & 0 & 0 \\\\ \n",
    "0 & 0 & 1 & 0\\\\ \n",
    "0 & 0 & 0 & 1\n",
    "\\end{bmatrix}\n",
    "$$\n",
    "\n",
    "a mensagem aleatória é codificada segundo a expressão\n",
    "\n",
    "$$v = Gu$$\n",
    "\n",
    "A palavr código recebida é então decodificada usando a matriz\n",
    "\n",
    "$$H =\\begin{bmatrix}\n",
    "1 &0  &1  & 0 &1  &0  &1 \\\\ \n",
    " 0&1  &1  &0  &0  &1  &1 \\\\ \n",
    "0 & 0 &0  &1  &1  &1  &1 \n",
    "\\end{bmatrix}\n",
    "$$\n",
    "\n",
    "da seguinte maneira\n",
    "\n",
    "$$\\hat{v} = Hr$$\n",
    "\n",
    "onde $r$ é a palavra código recebida adicionada de ruído $e$\n",
    "\n",
    "$$r = v+e$$\n",
    "\n",
    "Caso $\\hat{v}$ seja nulo, a palavra código decodificada é a própria mensagem recebida $r$. Caso contrário, altera-se na mensagem recebida o bit correspondente a posição na matriz H em que se encontra $\\hat{v}$\n",
    "\n",
    "### Decodifição exaustiva\n",
    "\n",
    "Todas as $2^4$  palavras chave podem ser geradas através da matriz $G$. A decodificação através da distância de hamming se faz comparando a mensagem recebida $r$ com todas as palavras chave possíveis e escolhendo a de menor distância.\n"
   ]
  },
  {
   "cell_type": "code",
   "execution_count": 4,
   "metadata": {
    "ExecuteTime": {
     "end_time": "2019-09-16T00:11:46.449394Z",
     "start_time": "2019-09-16T00:11:46.422450Z"
    }
   },
   "outputs": [],
   "source": [
    "def hamming(k, p, L, G, H, Kwords):\n",
    "    def decode_H(m, H):\n",
    "        decoded_message = np.dot(H, m) % 2\n",
    "        if np.sum(decoded_message) == 0:\n",
    "            v_hyp = noisy_message\n",
    "        else:\n",
    "            ei = np.where((np.transpose(H) == tuple(\n",
    "                decoded_message)).all(axis=1))[0][0]\n",
    "            v_hyp = noisy_message\n",
    "            v_hyp[ei] = int(not(v_hyp[ei]))\n",
    "\n",
    "        return v_hyp\n",
    "        # return np.dot(H, m) % 2\n",
    "\n",
    "    def decode_exaustivo(m, Kwords):\n",
    "        min_d = k+1\n",
    "        for kword in Kwords:\n",
    "            d = np.count_nonzero(kword - m)\n",
    "            if d < min_d:\n",
    "                min_d = d\n",
    "                v_hyp = kword\n",
    "\n",
    "        return v_hyp\n",
    "\n",
    "    err_H = 0\n",
    "    err_exaustivo = 0\n",
    "    for i in range(L):\n",
    "        encoded_message, noisy_message = make_message(k, p, G)\n",
    "        v_hyp_H = decode_H(noisy_message, H)\n",
    "        v_hyp_exaustivo = decode_exaustivo(noisy_message, Kwords)\n",
    "\n",
    "        if not np.array_equal(encoded_message, v_hyp_H):\n",
    "            err_H += 1\n",
    "        if not np.array_equal(encoded_message, v_hyp_exaustivo):\n",
    "            err_exaustivo += 1\n",
    "\n",
    "    return (err_H/L, err_exaustivo/L)"
   ]
  },
  {
   "cell_type": "code",
   "execution_count": 5,
   "metadata": {
    "ExecuteTime": {
     "end_time": "2019-09-16T00:11:46.479585Z",
     "start_time": "2019-09-16T00:11:46.457151Z"
    }
   },
   "outputs": [],
   "source": [
    "def repetition(k, p, L, G):\n",
    "    err = 0\n",
    "    for i in range(L):\n",
    "        encoded_message, noisy_message = make_message(k, p, G)\n",
    "        n_nonzeros = np.count_nonzero(noisy_message)\n",
    "        n_zeros = len(noisy_message)-n_nonzeros\n",
    "        if n_nonzeros > n_zeros:\n",
    "            v_hyp = np.ones(7).astype(int)\n",
    "        else:\n",
    "            v_hyp = np.zeros(7).astype(int)\n",
    "\n",
    "        if not np.array_equal(encoded_message, v_hyp):\n",
    "            err += 1\n",
    "\n",
    "    Pe = err/L\n",
    "    return Pe"
   ]
  },
  {
   "cell_type": "code",
   "execution_count": 6,
   "metadata": {
    "ExecuteTime": {
     "end_time": "2019-09-16T00:11:46.506615Z",
     "start_time": "2019-09-16T00:11:46.482127Z"
    }
   },
   "outputs": [],
   "source": [
    "def func(k, p, L, G):\n",
    "    err = 0\n",
    "    for i in range(L):\n",
    "        encoded_message, noisy_message = make_message(k, p, G)\n",
    "        v_hyp = noisy_message\n",
    "        if not np.array_equal(encoded_message, v_hyp):\n",
    "            err += 1\n",
    "    Pe = err/L\n",
    "    return Pe"
   ]
  },
  {
   "cell_type": "code",
   "execution_count": 7,
   "metadata": {
    "ExecuteTime": {
     "end_time": "2019-09-16T00:11:48.194801Z",
     "start_time": "2019-09-16T00:11:46.516869Z"
    }
   },
   "outputs": [],
   "source": [
    "L = 1000\n",
    "k_ = [1, 4, 7]\n",
    "p_ = [0.05, 0.1, 0.15, 0.2, 0.25, 0.3, 0.4, 0.5, 0.6, 0.7, 0.8, 0.9]\n",
    "\n",
    "G_ = {\n",
    "    1/7: np.array([1, 1, 1, 1, 1, 1, 1]),\n",
    "    4/7: np.array([[1, 1, 0, 1],\n",
    "                   [1, 0, 1, 1],\n",
    "                   [1, 0, 0, 0],\n",
    "                   [0, 1, 1, 1],\n",
    "                   [0, 1, 0, 0],\n",
    "                   [0, 0, 1, 0],\n",
    "                   [0, 0, 0, 1]]),\n",
    "    7/7: np.array([1])\n",
    "}\n",
    "\n",
    "k = 4\n",
    "Kwords_ = []\n",
    "for i in range(2**k):\n",
    "    b = '{0:04b}'.format(i)\n",
    "    x = np.array([int(x) for x in b])\n",
    "    Kwords_.append(np.dot(G_[k/7], x) % 2)\n",
    "\n",
    "\n",
    "H_ = np.array([[1, 0, 1, 0, 1, 0, 1],\n",
    "               [0, 1, 1, 0, 0, 1, 1],\n",
    "               [0, 0, 0, 1, 1, 1, 1]])\n",
    "\n",
    "res = defaultdict(lambda: defaultdict(int))\n",
    "res2 = {}\n",
    "for p in p_:\n",
    "    k = 4\n",
    "    Pe_H, Pe_exaustivo = hamming(k, p, L, G_[k/7], H_, Kwords_)\n",
    "    res[k][p] = Pe_H\n",
    "    res2[p] = Pe_exaustivo\n",
    "    #print(\"Pe k={k} p={p} : {Pe}\".format(**locals()))\n",
    "\n",
    "    k = 1\n",
    "    Pe = repetition(k, p, L, G_[k/7])\n",
    "    res[k][p] = Pe\n",
    "    #print(\"Pe k={k} p={p} : {Pe}\".format(**locals()))\n",
    "\n",
    "    k = 7\n",
    "    Pe = func(k, p, L, G_[k/7])\n",
    "    res[k][p] = Pe\n",
    "    #print(\"Pe k={k} p={p} : {Pe}\".format(**locals()))"
   ]
  },
  {
   "cell_type": "code",
   "execution_count": 14,
   "metadata": {
    "ExecuteTime": {
     "end_time": "2019-09-16T00:14:47.059741Z",
     "start_time": "2019-09-16T00:14:46.818481Z"
    }
   },
   "outputs": [
    {
     "data": {
      "image/png": "[encoded data removed]",
      "text/plain": [
       "<Figure size 432x288 with 1 Axes>"
      ]
     },
     "metadata": {
      "needs_background": "light"
     },
     "output_type": "display_data"
    }
   ],
   "source": [
    "Pe_hamming = [hamErrorProb(p) for p in p_]\n",
    "Pe_rep = [repErrorProb(p) for p in p_]\n",
    "Pe_uno = [unoErrorProb(p) for p in p_]\n",
    "\n",
    "plt.figure()\n",
    "plt.grid()\n",
    "plt.plot(p_, Pe_rep, get_color_k(1)+'--')\n",
    "plt.plot(p_, Pe_hamming, get_color_k(4)+'--')\n",
    "plt.plot(p_, Pe_uno, get_color_k(7)+'--')\n",
    "\n",
    "for k in k_:\n",
    "    datax = []\n",
    "    datay = []\n",
    "    for p in res[k]:\n",
    "        Pe = res[k][p]\n",
    "        datax.append(p)\n",
    "        datay.append(Pe)\n",
    "\n",
    "    plt.plot(datax, datay, get_color_k(k))\n",
    "\n",
    "datax = []\n",
    "datay = []\n",
    "for p in res2.keys():\n",
    "    datax.append(p)\n",
    "    datay.append(res2[p])\n",
    "plt.plot(datax, datay, 'mo')\n",
    "\n",
    "\n",
    "plt.xlabel(\"p\")\n",
    "plt.ylabel(\"Pe\")\n",
    "\n",
    "plt.legend([\"k=1 teo\", \"k=4 teo\", \"k=7 teo\", \"k=1 sim\",\n",
    "            \"k=4 sim H\", \"k=7 sim\", \"k=4 sim ex\"])\n",
    "\n",
    "plt.show()\n"
   ]
  },
  {
   "cell_type": "markdown",
   "metadata": {},
   "source": [
    "k = 1 -> Repetição\n",
    "k = 4 -> Hamming\n",
    "k = 7 -> 7/7"
   ]
  },
  {
   "cell_type": "code",
   "execution_count": null,
   "metadata": {
    "ExecuteTime": {
     "end_time": "2019-09-16T00:14:05.427993Z",
     "start_time": "2019-09-16T00:14:05.190071Z"
    }
   },
   "outputs": [],
   "source": []
  },
  {
   "cell_type": "code",
   "execution_count": null,
   "metadata": {},
   "outputs": [],
   "source": []
  }
 ],
 "metadata": {
  "kernelspec": {
   "display_name": "Python 3",
   "language": "python",
   "name": "python3"
  },
  "language_info": {
   "codemirror_mode": {
    "name": "ipython",
    "version": 3
   },
   "file_extension": ".py",
   "mimetype": "text/x-python",
   "name": "python",
   "nbconvert_exporter": "python",
   "pygments_lexer": "ipython3",
   "version": "3.7.3"
  },
  "toc": {
   "base_numbering": 1,
   "nav_menu": {},
   "number_sections": true,
   "sideBar": true,
   "skip_h1_title": false,
   "title_cell": "Table of Contents",
   "title_sidebar": "Contents",
   "toc_cell": false,
   "toc_position": {},
   "toc_section_display": true,
   "toc_window_display": false
  },
  "varInspector": {
   "cols": {
    "lenName": 16,
    "lenType": 16,
    "lenVar": 40
   },
   "kernels_config": {
    "python": {
     "delete_cmd_postfix": "",
     "delete_cmd_prefix": "del ",
     "library": "var_list.py",
     "varRefreshCmd": "print(var_dic_list())"
    },
    "r": {
     "delete_cmd_postfix": ") ",
     "delete_cmd_prefix": "rm(",
     "library": "var_list.r",
     "varRefreshCmd": "cat(var_dic_list()) "
    }
   },
   "types_to_exclude": [
    "module",
    "function",
    "builtin_function_or_method",
    "instance",
    "_Feature"
   ],
   "window_display": false
  }
 },
 "nbformat": 4,
 "nbformat_minor": 2
}
